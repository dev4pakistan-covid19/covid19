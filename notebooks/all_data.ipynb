{
 "cells": [
  {
   "cell_type": "code",
   "execution_count": 1,
   "metadata": {},
   "outputs": [],
   "source": [
    "import pandas as pd\n",
    "import requests as re\n",
    "import datetime as dt"
   ]
  },
  {
   "cell_type": "code",
   "execution_count": 2,
   "metadata": {},
   "outputs": [],
   "source": [
    "url_recovered = \"https://raw.githubusercontent.com/CSSEGISandData/COVID-19/master/csse_covid_19_data/csse_covid_19_time_series/time_series_19-covid-Recovered.csv\"\n",
    "\n",
    "url_deaths = \"https://raw.githubusercontent.com/CSSEGISandData/COVID-19/master/csse_covid_19_data/csse_covid_19_time_series/time_series_19-covid-Deaths.csv\"\n",
    "\n",
    "url_confirmed = \"https://raw.githubusercontent.com/CSSEGISandData/COVID-19/master/csse_covid_19_data/csse_covid_19_time_series/time_series_19-covid-Confirmed.csv\""
   ]
  },
  {
   "cell_type": "code",
   "execution_count": 27,
   "metadata": {},
   "outputs": [],
   "source": [
    "recovered_df = pd.read_csv(url_recovered)\n",
    "deaths_df = pd.read_csv(url_deaths)\n",
    "confirmed_df = pd.read_csv(url_confirmed)"
   ]
  },
  {
   "cell_type": "code",
   "execution_count": 28,
   "metadata": {},
   "outputs": [],
   "source": [
    "recovered_df = recovered_df.melt(id_vars=['Province/State', 'Country/Region', 'Lat', 'Long'])\n",
    "recovered_df.rename(columns={\n",
    "    'variable':'DATE',\n",
    "    'value':'RECOVERED',\n",
    "    'Lat':'LATITUDE',\n",
    "    'Long':'LONGITUDE',\n",
    "    'Country/Region':'COUNTRY_REGION',\n",
    "    'Province/State':'PROVINCE_STATE'\n",
    "},inplace=True)\n",
    "recovered_df['DATE'] = pd.to_datetime(recovered_df['DATE'])"
   ]
  },
  {
   "cell_type": "code",
   "execution_count": 29,
   "metadata": {},
   "outputs": [],
   "source": [
    "deaths_df = deaths_df.melt(id_vars=['Province/State', 'Country/Region', 'Lat', 'Long'])\n",
    "deaths_df.rename(columns={\n",
    "    'variable':'DATE',\n",
    "    'value':'DEATHS',\n",
    "    'Lat':'LATITUDE',\n",
    "    'Long':'LONGITUDE',\n",
    "    'Country/Region':'COUNTRY_REGION',\n",
    "    'Province/State':'PROVINCE_STATE'\n",
    "},inplace=True)\n",
    "deaths_df['DATE'] = pd.to_datetime(deaths_df['DATE'])"
   ]
  },
  {
   "cell_type": "code",
   "execution_count": 30,
   "metadata": {},
   "outputs": [],
   "source": [
    "confirmed_df = confirmed_df.melt(id_vars=['Province/State', 'Country/Region', 'Lat', 'Long'])\n",
    "confirmed_df.rename(columns={\n",
    "    'variable':'DATE',\n",
    "    'value':'CONFIRMED',\n",
    "    'Lat':'LATITUDE',\n",
    "    'Long':'LONGITUDE',\n",
    "    'Country/Region':'COUNTRY_REGION',\n",
    "    'Province/State':'PROVINCE_STATE'\n",
    "},inplace=True)\n",
    "confirmed_df['DATE'] = pd.to_datetime(confirmed_df['DATE'])"
   ]
  },
  {
   "cell_type": "code",
   "execution_count": 36,
   "metadata": {},
   "outputs": [],
   "source": [
    "confirmed_df.fillna(value='NA',inplace=True)\n",
    "recovered_df.fillna(value='NA',inplace=True)\n",
    "deaths_df.fillna(value='NA',inplace=True)"
   ]
  },
  {
   "cell_type": "code",
   "execution_count": 44,
   "metadata": {},
   "outputs": [],
   "source": [
    "all_df = confirmed_df.merge(recovered_df,how='left',on=['PROVINCE_STATE','COUNTRY_REGION','DATE','LATITUDE','LONGITUDE'])\n",
    "all_df = all_df.merge(deaths_df,how='left',on=['PROVINCE_STATE','COUNTRY_REGION','DATE','LATITUDE','LONGITUDE'])"
   ]
  },
  {
   "cell_type": "code",
   "execution_count": 47,
   "metadata": {},
   "outputs": [],
   "source": [
    "all_df.to_csv('../data/all_data.csv',index=False)"
   ]
  }
 ],
 "metadata": {
  "kernelspec": {
   "display_name": "Python 3",
   "language": "python",
   "name": "python3"
  },
  "language_info": {
   "codemirror_mode": {
    "name": "ipython",
    "version": 3
   },
   "file_extension": ".py",
   "mimetype": "text/x-python",
   "name": "python",
   "nbconvert_exporter": "python",
   "pygments_lexer": "ipython3",
   "version": "3.6.9"
  }
 },
 "nbformat": 4,
 "nbformat_minor": 4
}
