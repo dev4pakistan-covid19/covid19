{
 "cells": [
  {
   "cell_type": "code",
   "execution_count": 30,
   "metadata": {},
   "outputs": [],
   "source": [
    "import folium\n",
    "import pandas as pd\n",
    "import numpy as np\n",
    "import geopandas as gpd\n",
    "import ast\n",
    "from IPython.display import IFrame\n",
    "from branca.colormap import linear\n",
    "from folium import FeatureGroup\n"
   ]
  },
  {
   "cell_type": "code",
   "execution_count": 84,
   "metadata": {},
   "outputs": [],
   "source": [
    "all_data = pd.read_csv(\"../data/all_data.csv\")"
   ]
  },
  {
   "cell_type": "code",
   "execution_count": 85,
   "metadata": {},
   "outputs": [],
   "source": [
    "all_data['DATE'] = pd.to_datetime(all_data['DATE'])"
   ]
  },
  {
   "cell_type": "code",
   "execution_count": 86,
   "metadata": {},
   "outputs": [],
   "source": [
    "cur_data = all_data[all_data['DATE']==all_data.DATE.max()]"
   ]
  },
  {
   "cell_type": "code",
   "execution_count": 87,
   "metadata": {},
   "outputs": [
    {
     "name": "stderr",
     "output_type": "stream",
     "text": [
      "C:\\Users\\hisham.sajid\\AppData\\Local\\Continuum\\anaconda3\\envs\\py36env\\lib\\site-packages\\ipykernel_launcher.py:1: SettingWithCopyWarning: \n",
      "A value is trying to be set on a copy of a slice from a DataFrame.\n",
      "Try using .loc[row_indexer,col_indexer] = value instead\n",
      "\n",
      "See the caveats in the documentation: https://pandas.pydata.org/pandas-docs/stable/user_guide/indexing.html#returning-a-view-versus-a-copy\n",
      "  \"\"\"Entry point for launching an IPython kernel.\n"
     ]
    }
   ],
   "source": [
    "cur_data['CONFIRMED_nrm'] = cur_data.CONFIRMED.apply(lambda x : \n",
    "                                                     (x - cur_data.CONFIRMED.min())/(cur_data.CONFIRMED.max()-cur_data.CONFIRMED.min()))"
   ]
  },
  {
   "cell_type": "code",
   "execution_count": 90,
   "metadata": {},
   "outputs": [],
   "source": [
    "cur_data = cur_data[cur_data.PROVINCE_STATE.isna()==True]"
   ]
  },
  {
   "cell_type": "code",
   "execution_count": 94,
   "metadata": {},
   "outputs": [],
   "source": [
    "map_ = folium.Map(location=[24.859089, 67.035289], tiles='openstreetmap', zoom_start=2)\n",
    "\n",
    "marker_group_confirmed = FeatureGroup(name='confirmed_cases')\n",
    "\n",
    "for ind,row in cur_data.iterrows():\n",
    "    folium.CircleMarker(\n",
    "        radius=row.CONFIRMED_nrm*15,\n",
    "        location=[row.LATITUDE, row.LONGITUDE],\n",
    "        popup=row.COUNTRY_REGION+ \"\\n CONFIRMED: \"+str(row.CONFIRMED),\n",
    "        color='crimson',\n",
    "        fill=True,\n",
    "    ).add_to(marker_group_confirmed)\n",
    "\n",
    "\n",
    "marker_group_confirmed.add_to(map_)\n",
    "\n",
    "map_.save('../viz/maps/test.html')\n",
    "map_.save('../index.html')"
   ]
  },
  {
   "cell_type": "markdown",
   "metadata": {},
   "source": [
    "## testing with shape files"
   ]
  },
  {
   "cell_type": "code",
   "execution_count": 69,
   "metadata": {},
   "outputs": [],
   "source": [
    "cur_data = cur_data[cur_data.PROVINCE_STATE.isna()==True]"
   ]
  },
  {
   "cell_type": "code",
   "execution_count": 41,
   "metadata": {},
   "outputs": [],
   "source": [
    "countries_shp = gpd.read_file('../data/shape_files/ne_50m_admin_0_countries/ne_50m_admin_0_countries.shp')"
   ]
  },
  {
   "cell_type": "code",
   "execution_count": 44,
   "metadata": {},
   "outputs": [],
   "source": [
    "sov_shp = countries_shp[['SOVEREIGNT','geometry']]"
   ]
  }
 ],
 "metadata": {
  "kernelspec": {
   "display_name": "Python 3",
   "language": "python",
   "name": "python3"
  },
  "language_info": {
   "codemirror_mode": {
    "name": "ipython",
    "version": 3
   },
   "file_extension": ".py",
   "mimetype": "text/x-python",
   "name": "python",
   "nbconvert_exporter": "python",
   "pygments_lexer": "ipython3",
   "version": "3.6.9"
  }
 },
 "nbformat": 4,
 "nbformat_minor": 4
}
